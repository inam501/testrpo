{
 "cells": [
  {
   "cell_type": "markdown",
   "id": "4e1574d0-a965-452f-ac39-3d71252cce63",
   "metadata": {},
   "source": [
    "Data Science Tools and Ecosystem"
   ]
  },
  {
   "cell_type": "markdown",
   "id": "95ee5b75-a80b-485f-8056-fa6c583bc691",
   "metadata": {},
   "source": [
    "#In this notebook, Data Science Tools and Ecosystem are summarized."
   ]
  },
  {
   "cell_type": "markdown",
   "id": "cd468349-f0fc-41f7-ba73-026673402445",
   "metadata": {},
   "source": [
    "#Some of the popular languages that Data Scientists use are:\n",
    "1. R\n",
    "2. python\n",
    "3. c"
   ]
  },
  {
   "cell_type": "markdown",
   "id": "856c55f3-aa8a-4056-81cd-f76d97b12e5b",
   "metadata": {},
   "source": [
    "#Some of the commonly used libraries used by Data Scientists include:\n",
    "1: ggplot\n",
    "2: pandas\n",
    "3: numpy\n",
    "4: NLTK"
   ]
  },
  {
   "cell_type": "markdown",
   "id": "6e3c330b-f12d-4c0a-ad9e-2828fb36d4c6",
   "metadata": {},
   "source": [
    "#Data Science Tools\n",
    "|Data Science Tools|\n",
    "|------------------|\n",
    "|jupter nottebok|\n",
    "|anaconda|\n",
    "|github|\n"
   ]
  },
  {
   "cell_type": "markdown",
   "id": "05730880-07c1-4d26-85ee-4b7a70e9ff66",
   "metadata": {},
   "source": [
    "###Below are a few examples of evaluating arithmetic expressions in Python"
   ]
  },
  {
   "cell_type": "code",
   "execution_count": 14,
   "id": "28087b66-85e8-4b5f-a9d4-105416ef517f",
   "metadata": {},
   "outputs": [
    {
     "data": {
      "text/plain": [
       "17"
      ]
     },
     "execution_count": 14,
     "metadata": {},
     "output_type": "execute_result"
    }
   ],
   "source": [
    "# This a simple arithmetic expression to mutiply then add integers\n",
    "(3*4)+5"
   ]
  },
  {
   "cell_type": "code",
   "execution_count": 17,
   "id": "00c00192-dca1-4cb0-8605-9ab21200aee5",
   "metadata": {},
   "outputs": [
    {
     "data": {
      "text/plain": [
       "3.3333333333333335"
      ]
     },
     "execution_count": 17,
     "metadata": {},
     "output_type": "execute_result"
    }
   ],
   "source": [
    "200/60"
   ]
  },
  {
   "cell_type": "markdown",
   "id": "34732233-b3f9-44a1-acde-64faa2f59090",
   "metadata": {},
   "source": [
    "#**_Objectives:_**\n",
    "* R\n",
    "* python\n",
    "* c\n",
    "\n"
   ]
  },
  {
   "cell_type": "markdown",
   "id": "b67144a7-c4e3-4d9a-9e50-561f77169307",
   "metadata": {},
   "source": [
    "##Author\n",
    "Inam Elahi"
   ]
  },
  {
   "cell_type": "code",
   "execution_count": null,
   "id": "d6cd68fa-1181-481b-b01d-ddf1cfd4f9d6",
   "metadata": {},
   "outputs": [],
   "source": []
  }
 ],
 "metadata": {
  "kernelspec": {
   "display_name": "Python 3 (ipykernel)",
   "language": "python",
   "name": "python3"
  },
  "language_info": {
   "codemirror_mode": {
    "name": "ipython",
    "version": 3
   },
   "file_extension": ".py",
   "mimetype": "text/x-python",
   "name": "python",
   "nbconvert_exporter": "python",
   "pygments_lexer": "ipython3",
   "version": "3.12.8"
  }
 },
 "nbformat": 4,
 "nbformat_minor": 5
}
